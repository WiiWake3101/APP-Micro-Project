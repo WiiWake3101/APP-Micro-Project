{
  "nbformat": 4,
  "nbformat_minor": 0,
  "metadata": {
    "colab": {
      "provenance": [],
      "authorship_tag": "ABX9TyMFiAv2TtPFs8rcgBUKFrGX",
      "include_colab_link": true
    },
    "kernelspec": {
      "name": "python3",
      "display_name": "Python 3"
    },
    "language_info": {
      "name": "python"
    }
  },
  "cells": [
    {
      "cell_type": "markdown",
      "metadata": {
        "id": "view-in-github",
        "colab_type": "text"
      },
      "source": [
        "<a href=\"https://colab.research.google.com/github/WiiWake3101/APP-Micro-Project/blob/main/Bharat_Intern_Task_1_(House_Price_Predicition).ipynb\" target=\"_parent\"><img src=\"https://colab.research.google.com/assets/colab-badge.svg\" alt=\"Open In Colab\"/></a>"
      ]
    },
    {
      "cell_type": "markdown",
      "source": [
        "# Bharat Intern - Task 1"
      ],
      "metadata": {
        "id": "EO6-JjRRfboy"
      }
    },
    {
      "cell_type": "markdown",
      "source": [
        "**Importing the Required Libraries**"
      ],
      "metadata": {
        "id": "qhXYOu8sfhOx"
      }
    },
    {
      "cell_type": "code",
      "execution_count": 8,
      "metadata": {
        "id": "QUu450Dlcx2e"
      },
      "outputs": [],
      "source": [
        "import numpy as np\n",
        "import pandas as pd\n",
        "from sklearn.model_selection import train_test_split\n",
        "from sklearn.preprocessing import StandardScaler\n",
        "from sklearn.linear_model import LinearRegression\n",
        "from sklearn.metrics import r2_score,mean_absolute_error\n",
        "import tensorflow as tf"
      ]
    },
    {
      "cell_type": "markdown",
      "source": [
        "**Loading and Processing Data**"
      ],
      "metadata": {
        "id": "Xb65Uo5rfqDV"
      }
    },
    {
      "cell_type": "code",
      "source": [
        "data=pd.read_csv('/content/Housing.csv')"
      ],
      "metadata": {
        "id": "4Gl-oNORdD25"
      },
      "execution_count": 9,
      "outputs": []
    },
    {
      "cell_type": "code",
      "source": [
        "print(\"Column names:\")\n",
        "print(data.columns)"
      ],
      "metadata": {
        "id": "kFqF33Z6dfje"
      },
      "execution_count": null,
      "outputs": []
    },
    {
      "cell_type": "code",
      "source": [
        "import matplotlib.pyplot as plt\n",
        "import seaborn as sns"
      ],
      "metadata": {
        "id": "2Trrq--qeQoj"
      },
      "execution_count": null,
      "outputs": []
    },
    {
      "cell_type": "code",
      "source": [
        "# CORRELATION BETWEEN THE COLUMNS\n",
        "corr = data.corr()\n",
        "plt.figure(figsize=(12,7))\n",
        "sns.heatmap(corr,cmap='coolwarm',annot=True)"
      ],
      "metadata": {
        "id": "IWmNjDkWeRrr"
      },
      "execution_count": null,
      "outputs": []
    },
    {
      "cell_type": "markdown",
      "source": [
        "**Spliting The Dataset**"
      ],
      "metadata": {
        "id": "O_ogroGth3Zr"
      }
    },
    {
      "cell_type": "code",
      "source": [
        "X = data.drop('price', axis=1)\n",
        "y = data['price']"
      ],
      "metadata": {
        "id": "9A4BPJ_sdLRw"
      },
      "execution_count": null,
      "outputs": []
    },
    {
      "cell_type": "code",
      "source": [
        "X"
      ],
      "metadata": {
        "id": "Eyj5BCOOeorB"
      },
      "execution_count": null,
      "outputs": []
    },
    {
      "cell_type": "code",
      "source": [
        "y"
      ],
      "metadata": {
        "id": "6EyR48_BeurP"
      },
      "execution_count": null,
      "outputs": []
    },
    {
      "cell_type": "code",
      "source": [
        "X_train, X_test, y_train, y_test = train_test_split(X, y, test_size=0.3, random_state=42)"
      ],
      "metadata": {
        "id": "PdZlUZLSdmmw"
      },
      "execution_count": null,
      "outputs": []
    },
    {
      "cell_type": "code",
      "source": [
        "len(X_train),len(X_test)"
      ],
      "metadata": {
        "id": "F8QdAWBSfCps"
      },
      "execution_count": null,
      "outputs": []
    },
    {
      "cell_type": "markdown",
      "source": [
        "**Linear Regression**"
      ],
      "metadata": {
        "id": "S5IBjVpOh76i"
      }
    },
    {
      "cell_type": "code",
      "source": [
        "scaler = StandardScaler()\n",
        "X_train = scaler.fit_transform(X_train)\n",
        "X_test = scaler.transform(X_test)"
      ],
      "metadata": {
        "id": "eQhNvArWdsII"
      },
      "execution_count": null,
      "outputs": []
    },
    {
      "cell_type": "code",
      "source": [
        "model_lr = LinearRegression()\n",
        "model_lr.fit(X_train, y_train)\n",
        "\n",
        "y_predict = model_lr.predict(X_test)\n",
        "\n",
        "train_score = model_lr.score(X_train, y_train)\n",
        "test_score = model_lr.score(X_test, y_test)\n",
        "\n",
        "y_predict"
      ],
      "metadata": {
        "id": "dbAkzWd0d3Ps"
      },
      "execution_count": null,
      "outputs": []
    },
    {
      "cell_type": "code",
      "source": [
        "print(f\"Training Score (R^2): {train_score}\")\n",
        "print(f\"Test Score (R^2): {test_score}\")"
      ],
      "metadata": {
        "id": "pQlF03S_hbPm"
      },
      "execution_count": null,
      "outputs": []
    },
    {
      "cell_type": "code",
      "source": [
        "model_nn = tf.keras.Sequential([\n",
        "    tf.keras.layers.Dense(64, activation='relu', input_shape=(X_train.shape[1],)),\n",
        "    tf.keras.layers.Dense(32, activation='relu'),\n",
        "    tf.keras.layers.Dense(1)\n",
        "])\n",
        "\n",
        "model_nn.compile(optimizer='adam', loss='mean_squared_error')\n",
        "\n",
        "model_nn.fit(X_train, y_train, epochs=50, batch_size=32, verbose=0)\n",
        "\n",
        "train_loss = model_nn.evaluate(X_train, y_train, verbose=0)\n",
        "test_loss = model_nn.evaluate(X_test, y_test, verbose=0)\n",
        "\n",
        "print(f\"Training Loss: {train_loss}\")\n",
        "print(f\"Test Loss: {test_loss}\")"
      ],
      "metadata": {
        "id": "ckpKSUdOd_z2"
      },
      "execution_count": null,
      "outputs": []
    },
    {
      "cell_type": "code",
      "source": [
        "score = r2_score(y_test,y_predict)\n",
        "mae = mean_absolute_error(y_test,y_predict)"
      ],
      "metadata": {
        "id": "LnAnBnV0feAZ"
      },
      "execution_count": null,
      "outputs": []
    },
    {
      "cell_type": "code",
      "source": [
        "score,mae"
      ],
      "metadata": {
        "id": "mbi0Q6a5hsUd"
      },
      "execution_count": null,
      "outputs": []
    }
  ]
}